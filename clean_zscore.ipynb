{
 "cells": [
  {
   "cell_type": "code",
   "execution_count": 3,
   "id": "0db4724e",
   "metadata": {},
   "outputs": [
    {
     "name": "stdout",
     "output_type": "stream",
     "text": [
      "The autoreload extension is already loaded. To reload it, use:\n",
      "  %reload_ext autoreload\n"
     ]
    }
   ],
   "source": [
    "%load_ext autoreload\n",
    "%autoreload 2\n",
    "\n",
    "from performance import *"
   ]
  },
  {
   "cell_type": "markdown",
   "id": "97903c6e",
   "metadata": {},
   "source": [
    "##### Performance\n",
    "\n",
    "We use an expanding z score by indexing upto the day before the \"start date\" of the trading signal. This is demonstrated here: https://github.com/kai-trading-bot/pair/blob/main/performance.py#L105"
   ]
  },
  {
   "cell_type": "code",
   "execution_count": 83,
   "id": "d6fa2a36",
   "metadata": {},
   "outputs": [
    {
     "data": {
      "text/html": [
       "<div>\n",
       "<style scoped>\n",
       "    .dataframe tbody tr th:only-of-type {\n",
       "        vertical-align: middle;\n",
       "    }\n",
       "\n",
       "    .dataframe tbody tr th {\n",
       "        vertical-align: top;\n",
       "    }\n",
       "\n",
       "    .dataframe thead th {\n",
       "        text-align: right;\n",
       "    }\n",
       "</style>\n",
       "<table border=\"1\" class=\"dataframe\">\n",
       "  <thead>\n",
       "    <tr style=\"text-align: right;\">\n",
       "      <th></th>\n",
       "      <th>PERFORMANCE</th>\n",
       "    </tr>\n",
       "  </thead>\n",
       "  <tbody>\n",
       "    <tr>\n",
       "      <th>SHARPE</th>\n",
       "      <td>1.846576</td>\n",
       "    </tr>\n",
       "    <tr>\n",
       "      <th>SORTINO</th>\n",
       "      <td>2.916737</td>\n",
       "    </tr>\n",
       "    <tr>\n",
       "      <th>CUMULATIVE_RETURN</th>\n",
       "      <td>0.149135</td>\n",
       "    </tr>\n",
       "    <tr>\n",
       "      <th>SIMPLE_RETURN</th>\n",
       "      <td>0.147777</td>\n",
       "    </tr>\n",
       "  </tbody>\n",
       "</table>\n",
       "</div>"
      ],
      "text/plain": [
       "                   PERFORMANCE\n",
       "SHARPE                1.846576\n",
       "SORTINO               2.916737\n",
       "CUMULATIVE_RETURN     0.149135\n",
       "SIMPLE_RETURN         0.147777"
      ]
     },
     "execution_count": 83,
     "metadata": {},
     "output_type": "execute_result"
    }
   ],
   "source": [
    "perf = Performance()\n",
    "clean_returns = perf.fetch_performance(style='MAX_WEIGHT', threshold=2)\n",
    "perf.simple_report(returns=clean_returns)"
   ]
  }
 ],
 "metadata": {
  "kernelspec": {
   "display_name": "Python 3 (ipykernel)",
   "language": "python",
   "name": "python3"
  },
  "language_info": {
   "codemirror_mode": {
    "name": "ipython",
    "version": 3
   },
   "file_extension": ".py",
   "mimetype": "text/x-python",
   "name": "python",
   "nbconvert_exporter": "python",
   "pygments_lexer": "ipython3",
   "version": "3.9.13"
  }
 },
 "nbformat": 4,
 "nbformat_minor": 5
}
